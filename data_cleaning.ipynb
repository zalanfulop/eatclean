{
 "cells": [
  {
   "cell_type": "code",
   "execution_count": 1,
   "id": "a10a6019-b8fc-4a83-932c-931c2db0ecf6",
   "metadata": {},
   "outputs": [],
   "source": [
    "import pandas as pd"
   ]
  },
  {
   "cell_type": "code",
   "execution_count": 2,
   "id": "fb4ac1c7-3c44-4919-abf8-9fa557af68ac",
   "metadata": {},
   "outputs": [],
   "source": [
    "df = pd.read_excel(\"nutrition.xlsx\")"
   ]
  },
  {
   "cell_type": "code",
   "execution_count": 94,
   "id": "66a2c42d-b9cc-4a8b-b6d3-0eb647a9a82a",
   "metadata": {},
   "outputs": [],
   "source": [
    "cols_to_keep = ['name', 'calories', 'fat', 'saturated_fatty_acids', 'carbohydrate', 'sugars', 'fiber', 'protein', 'sodium']"
   ]
  },
  {
   "cell_type": "code",
   "execution_count": null,
   "id": "c4ea45cc-7925-490b-b9e3-3eac522a378d",
   "metadata": {},
   "outputs": [],
   "source": [
    "# Sodium makes up 40% of NaCl so multiplying the amount of Sodium by 2.5 will give the salt content in mg."
   ]
  },
  {
   "cell_type": "code",
   "execution_count": 4,
   "id": "30e7f86a-2948-41a0-95e8-d21b352d0668",
   "metadata": {
    "collapsed": true,
    "jupyter": {
     "outputs_hidden": true
    }
   },
   "outputs": [
    {
     "name": "stdout",
     "output_type": "stream",
     "text": [
      "Unnamed: 0\n",
      "name\n",
      "serving_size\n",
      "calories\n",
      "total_fat\n",
      "saturated_fat\n",
      "cholesterol\n",
      "sodium\n",
      "choline\n",
      "folate\n",
      "folic_acid\n",
      "niacin\n",
      "pantothenic_acid\n",
      "riboflavin\n",
      "thiamin\n",
      "vitamin_a\n",
      "vitamin_a_rae\n",
      "carotene_alpha\n",
      "carotene_beta\n",
      "cryptoxanthin_beta\n",
      "lutein_zeaxanthin\n",
      "lucopene\n",
      "vitamin_b12\n",
      "vitamin_b6\n",
      "vitamin_c\n",
      "vitamin_d\n",
      "vitamin_e\n",
      "tocopherol_alpha\n",
      "vitamin_k\n",
      "calcium\n",
      "copper\n",
      "irom\n",
      "magnesium\n",
      "manganese\n",
      "phosphorous\n",
      "potassium\n",
      "selenium\n",
      "zink\n",
      "protein\n",
      "alanine\n",
      "arginine\n",
      "aspartic_acid\n",
      "cystine\n",
      "glutamic_acid\n",
      "glycine\n",
      "histidine\n",
      "hydroxyproline\n",
      "isoleucine\n",
      "leucine\n",
      "lysine\n",
      "methionine\n",
      "phenylalanine\n",
      "proline\n",
      "serine\n",
      "threonine\n",
      "tryptophan\n",
      "tyrosine\n",
      "valine\n",
      "carbohydrate\n",
      "fiber\n",
      "sugars\n",
      "fructose\n",
      "galactose\n",
      "glucose\n",
      "lactose\n",
      "maltose\n",
      "sucrose\n",
      "fat\n",
      "saturated_fatty_acids\n",
      "monounsaturated_fatty_acids\n",
      "polyunsaturated_fatty_acids\n",
      "fatty_acids_total_trans\n",
      "alcohol\n",
      "ash\n",
      "caffeine\n",
      "theobromine\n",
      "water\n"
     ]
    }
   ],
   "source": [
    "for i in df:\n",
    "    print(i)"
   ]
  },
  {
   "cell_type": "code",
   "execution_count": 10,
   "id": "79b6647c-4ba9-40db-affa-308a8d52caa7",
   "metadata": {},
   "outputs": [
    {
     "name": "stdout",
     "output_type": "stream",
     "text": [
      "(8789, 77)\n"
     ]
    },
    {
     "data": {
      "text/plain": [
       "serving_size\n",
       "100 g    8789\n",
       "Name: count, dtype: int64"
      ]
     },
     "execution_count": 10,
     "metadata": {},
     "output_type": "execute_result"
    }
   ],
   "source": [
    "# The serving size is 100g at each entry\n",
    "df['serving_size'].nunique()\n",
    "print(df.shape)\n",
    "df['serving_size'].value_counts()"
   ]
  },
  {
   "cell_type": "code",
   "execution_count": 13,
   "id": "bf7338db-6a5e-4fc5-bf49-e1bd21476d41",
   "metadata": {},
   "outputs": [
    {
     "data": {
      "text/plain": [
       "total_fat                   0\n",
       "fat                         0\n",
       "saturated_fat            1590\n",
       "saturated_fatty_acids       0\n",
       "dtype: int64"
      ]
     },
     "execution_count": 13,
     "metadata": {},
     "output_type": "execute_result"
    }
   ],
   "source": [
    "# I will use the 'fat' and 'saturated_fatty_acids' column.\n",
    "df[[\"total_fat\", \"fat\", \"saturated_fat\", \"saturated_fatty_acids\"]].isna().sum()"
   ]
  },
  {
   "cell_type": "code",
   "execution_count": 96,
   "id": "ef501f98-81c5-439b-8e50-6f0c12baaf5a",
   "metadata": {},
   "outputs": [
    {
     "data": {
      "text/plain": [
       "name                     0\n",
       "calories                 0\n",
       "fat                      0\n",
       "saturated_fatty_acids    0\n",
       "carbohydrate             0\n",
       "sugars                   0\n",
       "fiber                    0\n",
       "protein                  0\n",
       "sodium                   0\n",
       "dtype: int64"
      ]
     },
     "execution_count": 96,
     "metadata": {},
     "output_type": "execute_result"
    }
   ],
   "source": [
    "# Everything I need has a value\n",
    "df[cols_to_keep].isna().sum()"
   ]
  },
  {
   "cell_type": "code",
   "execution_count": 113,
   "id": "2e614c9d-7b67-4683-8d59-8853cfefee47",
   "metadata": {},
   "outputs": [],
   "source": [
    "def convert_to_float(value):\n",
    "    # If it is not a string then return the value\n",
    "    if  not isinstance(value, str):\n",
    "        return value\n",
    "    # Check if the value is in mg\n",
    "    is_mg = False\n",
    "    if 'mg' in value:\n",
    "        is_mg = True\n",
    "    # Remove g, mg and whitespaces\n",
    "    value = value.replace('mg', '').replace('g', '').strip()\n",
    "    # Convert value to float\n",
    "    num_value = float(value)\n",
    "    # Convert mg to g AND convert sodium to salt\n",
    "    if is_mg:\n",
    "        num_value = (num_value/1000) * 2.5\n",
    "\n",
    "    return round(num_value, 2)"
   ]
  },
  {
   "cell_type": "code",
   "execution_count": 114,
   "id": "0e2319bf-e516-4f33-8f81-d8540a11bb32",
   "metadata": {},
   "outputs": [],
   "source": [
    "# Create a new dataframe to save\n",
    "df_check = df[cols_to_keep].copy()\n",
    "for col in ['fat', 'saturated_fatty_acids', 'carbohydrate', 'sugars', 'fiber', 'protein', 'sodium']:\n",
    "    df_check[col] = df_check[col].apply(convert_to_float)\n",
    "df_check.rename(columns={'sodium': 'salt'}, inplace=True)\n",
    "#df_check['sum'] = df_check.sum(axis=1)"
   ]
  },
  {
   "cell_type": "code",
   "execution_count": 118,
   "id": "b733cd57-d9ba-48fc-852c-5dee372cfbd0",
   "metadata": {},
   "outputs": [],
   "source": [
    "df_check.to_csv('food_data_clean.csv', sep=';', index=False, header=False)"
   ]
  },
  {
   "cell_type": "code",
   "execution_count": 119,
   "id": "4d0beab8-a759-496d-bd52-52e3785bf7ba",
   "metadata": {},
   "outputs": [
    {
     "name": "stdout",
     "output_type": "stream",
     "text": [
      "asd\n"
     ]
    }
   ],
   "source": [
    "print('asd')"
   ]
  }
 ],
 "metadata": {
  "kernelspec": {
   "display_name": "Python 3 (ipykernel)",
   "language": "python",
   "name": "python3"
  },
  "language_info": {
   "codemirror_mode": {
    "name": "ipython",
    "version": 3
   },
   "file_extension": ".py",
   "mimetype": "text/x-python",
   "name": "python",
   "nbconvert_exporter": "python",
   "pygments_lexer": "ipython3",
   "version": "3.11.5"
  }
 },
 "nbformat": 4,
 "nbformat_minor": 5
}
